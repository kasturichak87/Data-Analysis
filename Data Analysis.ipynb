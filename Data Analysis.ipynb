{
 "cells": [
  {
   "cell_type": "code",
   "execution_count": 19,
   "metadata": {
    "scrolled": true
   },
   "outputs": [
    {
     "name": "stdout",
     "output_type": "stream",
     "text": [
      "                 Open       High        Low      Close  Adj Close    Volume\n",
      "Date                                                                       \n",
      "2017-01-03  90.940002  91.339996  90.150002  90.889999  88.367332  10360600\n",
      "2017-01-04  91.120003  91.150002  89.750000  89.889999  87.395081   9434200\n",
      "2017-01-05  90.190002  90.300003  88.440002  88.550003  86.092278  14443200\n",
      "2017-01-06  88.790001  88.980003  87.820000  88.500000  86.043663  16518100\n",
      "2017-01-09  88.220001  88.220001  86.550003  87.040001  84.624184  13688100\n",
      "                 Open       High        Low      Close  Adj Close    Volume\n",
      "Date                                                                       \n",
      "2015-01-02  92.250000  93.050003  91.809998  92.830002  84.283142  10220400\n",
      "2015-01-05  92.099998  92.400002  89.500000  90.290001  81.976997  18502400\n",
      "2015-01-06  90.239998  91.410004  89.019997  89.809998  81.541191  16670700\n",
      "2015-01-07  90.650002  91.480003  90.000000  90.720001  82.367409  13590700\n",
      "2015-01-08  91.250000  92.269997  91.000000  92.230003  83.738388  15487500\n"
     ]
    },
    {
     "data": {
      "image/png": "[encoded data removed]",
      "text/plain": [
       "<matplotlib.figure.Figure at 0x1db018b9438>"
      ]
     },
     "metadata": {},
     "output_type": "display_data"
    }
   ],
   "source": [
    "# importing relevant libraries\n",
    "import pandas as pd\n",
    "import datetime\n",
    "import pandas_datareader.data as web\n",
    "import matplotlib.pyplot as plt\n",
    "from matplotlib import style\n",
    "\n",
    "# setting start and end date for which data needs to be imported\n",
    "\n",
    "start = datetime.datetime(2017,1,1)\n",
    "end = datetime.datetime(2017,9,1)\n",
    "\n",
    "# create another start and end time to see data from a previous year\n",
    "\n",
    "start1 =datetime.datetime(2015,1,1)\n",
    "end1 =datetime.datetime(2015,9,1)\n",
    "\n",
    "# Will create a dataframe using web\n",
    "\n",
    "df= web.DataReader(\"XOM\",\"yahoo\",start,end)\n",
    "\n",
    "# Create another dataframe for different start and end time\n",
    "\n",
    "df1 =web.DataReader(\"XOM\",\"yahoo\",start1,end1)\n",
    "\n",
    "\n",
    "\n",
    "#Print both data frame\n",
    "\n",
    "print(df.head())\n",
    "print(df1.head())\n",
    "\n",
    "\n",
    "# Setting the style for the plot\n",
    "\n",
    "# style.use('ggplot') can use \"ggplot\"\n",
    "style.use('fivethirtyeight')\n",
    "\n",
    "#Plotting the data\n",
    "\n",
    "df['High'].plot()\n",
    "plt.legend()\n",
    "df['Low'].plot()\n",
    "plt.legend()\n",
    "df1['High'].plot()\n",
    "plt.legend()\n",
    "df1['Low'].plot()\n",
    "plt.legend()\n",
    "plt.show()"
   ]
  },
  {
   "cell_type": "code",
   "execution_count": 36,
   "metadata": {},
   "outputs": [
    {
     "name": "stdout",
     "output_type": "stream",
     "text": [
      "   Bounce_Rate  Day  Visitors\n",
      "0           45    1        34\n",
      "1           67    2        45\n",
      "2           78    3        67\n",
      "3           55    4        78\n",
      "4           66    5        76\n",
      "5           45    6        90\n",
      "None\n",
      "     Bounce_Rate  Visitors\n",
      "Day                       \n",
      "1             45        34\n",
      "2             67        45\n",
      "3             78        67\n",
      "4             55        78\n",
      "5             66        76\n",
      "     Visitors  Bounce_Rate\n",
      "Day                       \n",
      "1          34           45\n",
      "2          45           67\n",
      "3          67           78\n",
      "4          78           55\n",
      "5          76           66\n",
      "6          90           45\n",
      "Day\n",
      "1    34\n",
      "2    45\n",
      "3    67\n",
      "4    78\n",
      "5    76\n",
      "6    90\n",
      "Name: Visitors, dtype: int64\n",
      "[34, 45, 67, 78, 76, 90]\n",
      "[[34 45]\n",
      " [45 67]\n",
      " [67 78]\n",
      " [78 55]\n",
      " [76 66]\n",
      " [90 45]]\n",
      "    0   1\n",
      "0  34  45\n",
      "1  45  67\n",
      "2  67  78\n",
      "3  78  55\n",
      "4  76  66\n",
      "5  90  45\n"
     ]
    }
   ],
   "source": [
    "import pandas as pd\n",
    "import matplotlib.pyplot as plt\n",
    "from matplotlib import style\n",
    "import numpy as np\n",
    "style.use('ggplot')\n",
    "\n",
    "web_stats= {'Day':[1,2,3,4,5,6],\n",
    "            'Visitors':[34,45,67,78,76,90],\n",
    "           'Bounce_Rate':[45,67,78,55,66,45]}\n",
    "\n",
    "df = pd.DataFrame(web_stats)\n",
    "\n",
    "print(df)\n",
    "print(df.set_index('Day',inplace=True))\n",
    "print(df.head())\n",
    "print(df[['Visitors','Bounce_Rate']])\n",
    "print(df.Visitors)\n",
    "print(df.Visitors.tolist())\n",
    "print(np.array(df[['Visitors','Bounce_Rate']]))\n",
    "df2= pd.DataFrame(np.array(df[['Visitors','Bounce_Rate']]))\n",
    "print(df2)"
   ]
  },
  {
   "cell_type": "code",
   "execution_count": null,
   "metadata": {
    "collapsed": true
   },
   "outputs": [],
   "source": []
  }
 ],
 "metadata": {
  "kernelspec": {
   "display_name": "Python 3",
   "language": "python",
   "name": "python3"
  },
  "language_info": {
   "codemirror_mode": {
    "name": "ipython",
    "version": 3
   },
   "file_extension": ".py",
   "mimetype": "text/x-python",
   "name": "python",
   "nbconvert_exporter": "python",
   "pygments_lexer": "ipython3",
   "version": "3.6.2"
  }
 },
 "nbformat": 4,
 "nbformat_minor": 2
}
